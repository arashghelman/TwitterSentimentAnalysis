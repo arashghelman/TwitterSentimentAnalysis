{
 "cells": [
  {
   "cell_type": "code",
   "execution_count": 1,
   "id": "9e791523",
   "metadata": {},
   "outputs": [],
   "source": [
    "from pyspark.sql import SparkSession\n",
    "from pyspark.ml import Pipeline\n",
    "from pyspark.ml.feature import RegexTokenizer, StopWordsRemover, HashingTF, IDF\n",
    "from pyspark.sql.functions import udf, col\n",
    "from pyspark.sql.types import StringType\n",
    "from emoji import replace_emoji\n",
    "import re"
   ]
  },
  {
   "cell_type": "code",
   "execution_count": 2,
   "id": "3e177432",
   "metadata": {},
   "outputs": [],
   "source": [
    "def clean_text(text):\n",
    "    if text is None: return \"\"\n",
    "\n",
    "    text = replace_emoji(text, '')\n",
    "    text = re.sub(r\"http\\S+|www.\\S+\", \"\", text)\n",
    "    text = re.sub(r\"[^\\w\\s]\", \"\", text)\n",
    "\n",
    "    return text.lower().strip()\n",
    "\n",
    "clean_udf = udf(clean_text, StringType())"
   ]
  },
  {
   "cell_type": "code",
   "execution_count": 3,
   "id": "7839c0fe",
   "metadata": {},
   "outputs": [
    {
     "name": "stderr",
     "output_type": "stream",
     "text": [
      "25/05/04 21:46:14 WARN Utils: Your hostname, Arashs-MacBook-Air.local resolves to a loopback address: 127.0.0.1; using 192.168.1.191 instead (on interface en0)\n",
      "25/05/04 21:46:14 WARN Utils: Set SPARK_LOCAL_IP if you need to bind to another address\n",
      "Setting default log level to \"WARN\".\n",
      "To adjust logging level use sc.setLogLevel(newLevel). For SparkR, use setLogLevel(newLevel).\n",
      "25/05/04 21:46:15 WARN NativeCodeLoader: Unable to load native-hadoop library for your platform... using builtin-java classes where applicable\n"
     ]
    }
   ],
   "source": [
    "spark = SparkSession.builder \\\n",
    "    .appName(\"Twitter Sentiment Analysis\") \\\n",
    "    .master(\"local[*]\") \\\n",
    "    .config(\"spark.driver.memory\", \"4G\") \\\n",
    "    .config(\"spark.serializer\", \"org.apache.spark.serializer.KryoSerializer\") \\\n",
    "    .getOrCreate()"
   ]
  },
  {
   "cell_type": "code",
   "execution_count": 4,
   "id": "449b4e69",
   "metadata": {},
   "outputs": [],
   "source": [
    "train_df = spark.read.option(\"header\", \"true\").csv(\"./dataset/train.csv\")\n",
    "test_df = spark.read.option(\"header\", \"true\").csv(\"./dataset/test.csv\")\n",
    "\n",
    "train_df = train_df.withColumn(\"clean_text\", clean_udf(col(\"text\")))\n",
    "test_df = test_df.withColumn(\"clean_text\", clean_udf(col(\"text\")))"
   ]
  },
  {
   "cell_type": "code",
   "execution_count": 5,
   "id": "075f5cb9",
   "metadata": {},
   "outputs": [],
   "source": [
    "tokenizer = RegexTokenizer() \\\n",
    "    .setInputCol(\"clean_text\") \\\n",
    "    .setOutputCol(\"tokens\") \\\n",
    "    .setPattern(\"\\\\W+\") \\\n",
    "    .setGaps(True)\n",
    "\n",
    "remover = StopWordsRemover() \\\n",
    "    .setInputCol(\"tokens\") \\\n",
    "    .setOutputCol(\"filtered_text\")\n",
    "\n",
    "hashingTF = HashingTF() \\\n",
    "    .setInputCol(\"filtered_text\") \\\n",
    "    .setOutputCol(\"tf_features\") \\\n",
    "    .setNumFeatures(10000)\n",
    "\n",
    "idf = IDF() \\\n",
    "    .setInputCol(\"tf_features\") \\\n",
    "    .setOutputCol(\"tfidf_features\")"
   ]
  },
  {
   "cell_type": "code",
   "execution_count": 6,
   "id": "30c5fc41",
   "metadata": {},
   "outputs": [
    {
     "name": "stderr",
     "output_type": "stream",
     "text": [
      "                                                                                \r"
     ]
    }
   ],
   "source": [
    "preprocessing_pipeline = Pipeline(stages=[tokenizer, remover, hashingTF, idf])\n",
    "model = preprocessing_pipeline.fit(train_df)\n",
    "model.write().overwrite().save(\"./preprocessing_pipeline\")"
   ]
  },
  {
   "cell_type": "code",
   "execution_count": 7,
   "id": "a6638448",
   "metadata": {},
   "outputs": [
    {
     "name": "stderr",
     "output_type": "stream",
     "text": [
      "                                                                                \r"
     ]
    }
   ],
   "source": [
    "train_transformed = model.transform(train_df)\n",
    "test_transformed = model.transform(test_df)\n",
    "\n",
    "train_transformed.select(\"clean_text\", \"tfidf_features\").write.mode(\"overwrite\").parquet(\"./output/transformed_train\")\n",
    "test_transformed.select(\"clean_text\", \"tfidf_features\").write.mode(\"overwrite\").parquet(\"./output/transformed_test\")"
   ]
  },
  {
   "cell_type": "code",
   "execution_count": 8,
   "id": "6a4f2417",
   "metadata": {},
   "outputs": [],
   "source": [
    "spark.stop()"
   ]
  }
 ],
 "metadata": {
  "kernelspec": {
   "display_name": "Python 3",
   "language": "python",
   "name": "python3"
  },
  "language_info": {
   "codemirror_mode": {
    "name": "ipython",
    "version": 3
   },
   "file_extension": ".py",
   "mimetype": "text/x-python",
   "name": "python",
   "nbconvert_exporter": "python",
   "pygments_lexer": "ipython3",
   "version": "3.10.2"
  }
 },
 "nbformat": 4,
 "nbformat_minor": 5
}
