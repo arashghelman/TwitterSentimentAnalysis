{
 "cells": [
  {
   "cell_type": "code",
   "execution_count": 15,
   "id": "9e791523",
   "metadata": {},
   "outputs": [],
   "source": [
    "from pyspark.sql import SparkSession\n",
    "from pyspark.ml import Pipeline\n",
    "from pyspark.ml.feature import RegexTokenizer, StopWordsRemover, HashingTF, IDF\n",
    "from pyspark.sql.functions import udf, col\n",
    "from pyspark.sql.types import StringType\n",
    "from emoji import replace_emoji\n",
    "import re"
   ]
  },
  {
   "cell_type": "code",
   "execution_count": 16,
   "id": "7839c0fe",
   "metadata": {},
   "outputs": [],
   "source": [
    "spark = SparkSession.builder \\\n",
    "    .appName(\"Twitter Sentiment Analysis\") \\\n",
    "    .master(\"local[*]\") \\\n",
    "    .config(\"spark.driver.memory\", \"4G\") \\\n",
    "    .config(\"spark.serializer\", \"org.apache.spark.serializer.KryoSerializer\") \\\n",
    "    .getOrCreate()"
   ]
  },
  {
   "cell_type": "code",
   "execution_count": 17,
   "id": "449b4e69",
   "metadata": {},
   "outputs": [],
   "source": [
    "train_df = spark.read.option(\"header\", \"true\").csv(\"./dataset/train.csv\")\n",
    "test_df = spark.read.option(\"header\", \"true\").csv(\"./dataset/test.csv\")"
   ]
  },
  {
   "cell_type": "code",
   "execution_count": 19,
   "id": "7660d3df",
   "metadata": {},
   "outputs": [
    {
     "name": "stdout",
     "output_type": "stream",
     "text": [
      "+------+----------+--------------------+--------+---------------+--------------------+\n",
      "|target|       ids|                date|    flag|           user|                text|\n",
      "+------+----------+--------------------+--------+---------------+--------------------+\n",
      "|     0|1467810369|Mon Apr 06 22:19:...|NO_QUERY|_TheSpecialOne_|@switchfoot http:...|\n",
      "|     0|1467810672|Mon Apr 06 22:19:...|NO_QUERY|  scotthamilton|is upset that he ...|\n",
      "|     0|1467810917|Mon Apr 06 22:19:...|NO_QUERY|       mattycus|@Kenichan I dived...|\n",
      "|     0|1467811184|Mon Apr 06 22:19:...|NO_QUERY|        ElleCTF|my whole body fee...|\n",
      "|     0|1467811193|Mon Apr 06 22:19:...|NO_QUERY|         Karoli|@nationwideclass ...|\n",
      "|     0|1467811372|Mon Apr 06 22:20:...|NO_QUERY|       joy_wolf|@Kwesidei not the...|\n",
      "|     0|1467811592|Mon Apr 06 22:20:...|NO_QUERY|        mybirch|         Need a hug |\n",
      "|     0|1467811594|Mon Apr 06 22:20:...|NO_QUERY|           coZZ|@LOLTrish hey  lo...|\n",
      "|     0|1467811795|Mon Apr 06 22:20:...|NO_QUERY|2Hood4Hollywood|@Tatiana_K nope t...|\n",
      "|     0|1467812025|Mon Apr 06 22:20:...|NO_QUERY|        mimismo|@twittera que me ...|\n",
      "|     0|1467812416|Mon Apr 06 22:20:...|NO_QUERY| erinx3leannexo|spring break in p...|\n",
      "|     0|1467812579|Mon Apr 06 22:20:...|NO_QUERY|   pardonlauren|I just re-pierced...|\n",
      "|     0|1467812723|Mon Apr 06 22:20:...|NO_QUERY|           TLeC|@caregiving I cou...|\n",
      "|     0|1467812771|Mon Apr 06 22:20:...|NO_QUERY|robrobbierobert|@octolinz16 It it...|\n",
      "|     0|1467812784|Mon Apr 06 22:20:...|NO_QUERY|    bayofwolves|@smarrison i woul...|\n",
      "|     0|1467812799|Mon Apr 06 22:20:...|NO_QUERY|     HairByJess|@iamjazzyfizzle I...|\n",
      "|     0|1467812964|Mon Apr 06 22:20:...|NO_QUERY| lovesongwriter|Hollis' death sce...|\n",
      "|     0|1467813137|Mon Apr 06 22:20:...|NO_QUERY|       armotley|about to file taxes |\n",
      "|     0|1467813579|Mon Apr 06 22:20:...|NO_QUERY|     starkissed|@LettyA ahh ive a...|\n",
      "|     0|1467813782|Mon Apr 06 22:20:...|NO_QUERY|      gi_gi_bee|@FakerPattyPattz ...|\n",
      "+------+----------+--------------------+--------+---------------+--------------------+\n",
      "only showing top 20 rows\n",
      "\n"
     ]
    }
   ],
   "source": [
    "train_df.createOrReplaceTempView(\"train_data\")\n",
    "spark.sql(\"SELECT * FROM train_data\").show()"
   ]
  },
  {
   "cell_type": "code",
   "execution_count": null,
   "id": "9391f462",
   "metadata": {},
   "outputs": [],
   "source": [
    "def clean_text(text):\n",
    "    if text is None: return \"\"\n",
    "\n",
    "    text = replace_emoji(text, '')\n",
    "    text = re.sub(r\"http\\S+|www.\\S+\", \"\", text)\n",
    "    text = re.sub(r\"[^\\w\\s]\", \"\", text)\n",
    "\n",
    "    return text.lower().strip()\n",
    "\n",
    "clean_udf = udf(clean_text, StringType())\n",
    "\n",
    "train_df = train_df.withColumn(\"clean_text\", clean_udf(col(\"text\")))\n",
    "test_df = test_df.withColumn(\"clean_text\", clean_udf(col(\"text\")))"
   ]
  },
  {
   "cell_type": "code",
   "execution_count": 5,
   "id": "075f5cb9",
   "metadata": {},
   "outputs": [],
   "source": [
    "tokenizer = RegexTokenizer() \\\n",
    "    .setInputCol(\"clean_text\") \\\n",
    "    .setOutputCol(\"tokens\") \\\n",
    "    .setPattern(\"\\\\W+\") \\\n",
    "    .setGaps(True)\n",
    "\n",
    "remover = StopWordsRemover() \\\n",
    "    .setInputCol(\"tokens\") \\\n",
    "    .setOutputCol(\"filtered_text\")\n",
    "\n",
    "hashingTF = HashingTF() \\\n",
    "    .setInputCol(\"filtered_text\") \\\n",
    "    .setOutputCol(\"tf_features\") \\\n",
    "    .setNumFeatures(10000)\n",
    "\n",
    "idf = IDF() \\\n",
    "    .setInputCol(\"tf_features\") \\\n",
    "    .setOutputCol(\"tfidf_features\")"
   ]
  },
  {
   "cell_type": "code",
   "execution_count": 6,
   "id": "30c5fc41",
   "metadata": {},
   "outputs": [
    {
     "name": "stderr",
     "output_type": "stream",
     "text": [
      "                                                                                \r"
     ]
    }
   ],
   "source": [
    "preprocessing_pipeline = Pipeline(stages=[tokenizer, remover, hashingTF, idf])\n",
    "model = preprocessing_pipeline.fit(train_df)\n",
    "model.write().overwrite().save(\"./preprocessing_pipeline\")"
   ]
  },
  {
   "cell_type": "code",
   "execution_count": 7,
   "id": "a6638448",
   "metadata": {},
   "outputs": [
    {
     "name": "stderr",
     "output_type": "stream",
     "text": [
      "                                                                                \r"
     ]
    }
   ],
   "source": [
    "train_transformed = model.transform(train_df)\n",
    "test_transformed = model.transform(test_df)\n",
    "\n",
    "train_transformed.select(\"clean_text\", \"tfidf_features\").write.mode(\"overwrite\").parquet(\"./output/transformed_train\")\n",
    "test_transformed.select(\"clean_text\", \"tfidf_features\").write.mode(\"overwrite\").parquet(\"./output/transformed_test\")"
   ]
  },
  {
   "cell_type": "code",
   "execution_count": 8,
   "id": "6a4f2417",
   "metadata": {},
   "outputs": [],
   "source": [
    "spark.stop()"
   ]
  }
 ],
 "metadata": {
  "kernelspec": {
   "display_name": "Python 3",
   "language": "python",
   "name": "python3"
  },
  "language_info": {
   "codemirror_mode": {
    "name": "ipython",
    "version": 3
   },
   "file_extension": ".py",
   "mimetype": "text/x-python",
   "name": "python",
   "nbconvert_exporter": "python",
   "pygments_lexer": "ipython3",
   "version": "3.10.2"
  }
 },
 "nbformat": 4,
 "nbformat_minor": 5
}
